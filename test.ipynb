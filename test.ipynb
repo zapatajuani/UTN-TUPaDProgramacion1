{
 "cells": [
  {
   "cell_type": "code",
   "execution_count": 5,
   "id": "9e985211",
   "metadata": {},
   "outputs": [],
   "source": [
    "# Archivo de jupyter notebook para pruebas rápidas"
   ]
  }
 ],
 "metadata": {
  "kernelspec": {
   "display_name": "venv",
   "language": "python",
   "name": "python3"
  },
  "language_info": {
   "codemirror_mode": {
    "name": "ipython",
    "version": 3
   },
   "file_extension": ".py",
   "mimetype": "text/x-python",
   "name": "python",
   "nbconvert_exporter": "python",
   "pygments_lexer": "ipython3",
   "version": "3.13.3"
  }
 },
 "nbformat": 4,
 "nbformat_minor": 5
}
